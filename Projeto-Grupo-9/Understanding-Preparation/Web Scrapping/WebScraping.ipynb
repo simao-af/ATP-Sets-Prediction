{
 "cells": [
  {
   "cell_type": "markdown",
   "id": "dd0962c2-ecc4-43d8-bc6b-97fb14a42ee0",
   "metadata": {
    "jp-MarkdownHeadingCollapsed": true,
    "tags": []
   },
   "source": [
    "#### Imports"
   ]
  },
  {
   "cell_type": "code",
   "execution_count": 2,
   "id": "d1373e13-2e9a-42e1-884a-ec05d9aa6375",
   "metadata": {},
   "outputs": [],
   "source": [
    "import random\n",
    "import time\n",
    "import matplotlib.pyplot as plt   ### representação gráfica\n",
    "import pandas as pd    ### manipulação de tabelas de dados - DataFrames\n",
    "import numpy as np   \n",
    "import datetime   ### para datas (séries temporais)\n",
    "import seaborn as sns   ### representação gráfica \n",
    "import sklearn as sk\n",
    "import requests\n",
    "from bs4 import BeautifulSoup\n",
    "\n",
    "import warnings\n",
    "warnings.filterwarnings('ignore')"
   ]
  },
  {
   "cell_type": "markdown",
   "id": "af57ff97-8efe-4177-8d38-705782eca688",
   "metadata": {
    "jp-MarkdownHeadingCollapsed": true,
    "tags": []
   },
   "source": [
    "### Abertura da base de dados"
   ]
  },
  {
   "cell_type": "code",
   "execution_count": 7,
   "id": "8bc0ac33-53da-4fa8-a61f-8258dc576437",
   "metadata": {
    "tags": []
   },
   "outputs": [],
   "source": [
    "df_clean = pd.read_csv('player_link.csv', sep=',')"
   ]
  },
  {
   "cell_type": "markdown",
   "id": "4e67dbee-24a1-4ecf-8175-1868bbafe4ca",
   "metadata": {
    "jp-MarkdownHeadingCollapsed": true,
    "tags": []
   },
   "source": [
    "## WebScrapping"
   ]
  },
  {
   "cell_type": "code",
   "execution_count": 12,
   "id": "7b53e632-a09e-42f0-ba95-56548842cedb",
   "metadata": {
    "tags": []
   },
   "outputs": [
    {
     "name": "stdout",
     "output_type": "stream",
     "text": [
      "(1987.05.22)\n",
      "(1996.02.11)\n",
      "(1986.06.03)\n",
      "(1997.04.20)\n",
      "(1998.08.12)\n",
      "(1996.04.12)\n",
      "(1997.10.20)\n",
      "(1998.12.22)\n",
      "(2000.08.08)\n",
      "(1997.02.11)\n",
      "(1995.08.23)\n",
      "(1997.10.28)\n",
      "(1999.04.15)\n",
      "(1992.08.16)\n",
      "(1988.04.14)\n",
      "(1997.08.28)\n",
      "(1991.07.12)\n",
      "(1992.02.23)\n",
      "(1995.05.11)\n",
      "(1985.04.26)\n",
      "(1988.09.28)\n",
      "(1986.09.01)\n",
      "(1996.05.21)\n",
      "(1981.08.08)\n",
      "(1990.05.23)\n",
      "(1999.02.17)\n",
      "(1991.05.16)\n",
      "(1996.05.30)\n",
      "(1998.01.20)\n",
      "(1997.06.17)\n",
      "(1987.05.24)\n",
      "(1988.01.17)\n",
      "(1990.10.05)\n",
      "(1992.02.27)\n",
      "(1994.02.24)\n",
      "(1997.02.24)\n",
      "(1990.06.30)\n",
      "(1997.04.26)\n",
      "(1999.08.31)\n",
      "(1989.05.08)\n",
      "(1993.09.03)\n",
      "(1989.12.29)\n",
      "(1993.07.24)\n",
      "(1995.06.02)\n",
      "(1995.04.16)\n",
      "(1992.02.08)\n",
      "(1990.04.25)\n",
      "(1992.01.21)\n",
      "(1997.12.02)\n",
      "(1994.04.29)\n",
      "(1986.01.23)\n",
      "(1998.09.12)\n",
      "(1990.12.07)\n",
      "(1999.04.02)\n",
      "(1989.06.14)\n",
      "(1993.07.16)\n",
      "(1996.01.13)\n",
      "(1993.07.10)\n",
      "(1994.04.20)\n",
      "(1993.03.23)\n",
      "(1986.06.18)\n",
      "(1989.03.30)\n",
      "(1998.09.09)\n",
      "(1992.08.17)\n",
      "(1992.03.31)\n",
      "(1990.06.21)\n",
      "(1997.05.05)\n",
      "(1986.05.18)\n",
      "(1999.08.05)\n",
      "(1992.09.30)\n",
      "(1995.09.27)\n",
      "(1996.04.10)\n",
      "(1994.12.01)\n",
      "(1989.07.15)\n",
      "(1990.05.17)\n",
      "(1995.04.27)\n",
      "(1986.01.01)\n",
      "(1993.01.27)\n",
      "(1989.12.24)\n",
      "(1991.11.13)\n",
      "(1987.10.07)\n"
     ]
    },
    {
     "ename": "AttributeError",
     "evalue": "'NoneType' object has no attribute 'text'",
     "output_type": "error",
     "traceback": [
      "\u001b[1;31m---------------------------------------------------------------------------\u001b[0m",
      "\u001b[1;31mAttributeError\u001b[0m                            Traceback (most recent call last)",
      "\u001b[1;32m~\\AppData\\Local\\Temp\\ipykernel_29392\\2624838588.py\u001b[0m in \u001b[0;36m<module>\u001b[1;34m\u001b[0m\n\u001b[0;32m     16\u001b[0m \u001b[1;33m\u001b[0m\u001b[0m\n\u001b[0;32m     17\u001b[0m         \u001b[0msoup\u001b[0m \u001b[1;33m=\u001b[0m \u001b[0mBeautifulSoup\u001b[0m\u001b[1;33m(\u001b[0m\u001b[0mget_data\u001b[0m\u001b[1;33m(\u001b[0m\u001b[0murl\u001b[0m\u001b[1;33m)\u001b[0m\u001b[1;33m,\u001b[0m \u001b[1;34m'html.parser'\u001b[0m\u001b[1;33m)\u001b[0m\u001b[1;33m\u001b[0m\u001b[1;33m\u001b[0m\u001b[0m\n\u001b[1;32m---> 18\u001b[1;33m         \u001b[0mprint\u001b[0m\u001b[1;33m(\u001b[0m\u001b[0msoup\u001b[0m\u001b[1;33m.\u001b[0m\u001b[0mselect_one\u001b[0m\u001b[1;33m(\u001b[0m\u001b[1;34m'.table-big-value-birthday'\u001b[0m\u001b[1;33m)\u001b[0m\u001b[1;33m.\u001b[0m\u001b[0mtext\u001b[0m\u001b[1;33m)\u001b[0m\u001b[1;33m\u001b[0m\u001b[1;33m\u001b[0m\u001b[0m\n\u001b[0m\u001b[0;32m     19\u001b[0m         \u001b[0mdf_clean\u001b[0m\u001b[1;33m[\u001b[0m\u001b[1;34m'BornDate'\u001b[0m\u001b[1;33m]\u001b[0m \u001b[1;33m=\u001b[0m \u001b[0msoup\u001b[0m\u001b[1;33m.\u001b[0m\u001b[0mselect_one\u001b[0m\u001b[1;33m(\u001b[0m\u001b[1;34m'.table-big-value-birthday'\u001b[0m\u001b[1;33m)\u001b[0m\u001b[1;33m.\u001b[0m\u001b[0mtext\u001b[0m\u001b[1;33m\u001b[0m\u001b[1;33m\u001b[0m\u001b[0m\n",
      "\u001b[1;31mAttributeError\u001b[0m: 'NoneType' object has no attribute 'text'"
     ]
    }
   ],
   "source": [
    "with open('unique_links.txt', 'r') as file:\n",
    "    for line in file:\n",
    "        url=line\n",
    "        cache_URL = \"https://webcache.googleusercontent.com/search\"\n",
    "\n",
    "        def get_data(link):\n",
    "            hdr = {\n",
    "                \"User-Agent\": \"Mozilla/5.0 (Linux; Android 6.0; Nexus 5 Build/MRA58N) AppleWebKit/537.36 (KHTML, like Gecko) Chrome/92.0.4515.107 Mobile Safari/537.36\"\n",
    "            }\n",
    "            params = {\n",
    "                'q': 'cache:' + link\n",
    "            }\n",
    "            req = requests.get(cache_URL, headers=hdr, params=params)\n",
    "            return req.text\n",
    "\n",
    "\n",
    "        soup = BeautifulSoup(get_data(url), 'html.parser')\n",
    "        print(soup.select_one('.table-big-value-birthday').text)\n",
    "        df_clean['BornDate'] = soup.select_one('.table-big-value-birthday').text"
   ]
  }
 ],
 "metadata": {
  "kernelspec": {
   "display_name": "Python 3 (ipykernel)",
   "language": "python",
   "name": "python3"
  },
  "language_info": {
   "codemirror_mode": {
    "name": "ipython",
    "version": 3
   },
   "file_extension": ".py",
   "mimetype": "text/x-python",
   "name": "python",
   "nbconvert_exporter": "python",
   "pygments_lexer": "ipython3",
   "version": "3.9.13"
  }
 },
 "nbformat": 4,
 "nbformat_minor": 5
}
