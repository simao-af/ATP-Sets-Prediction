{
 "cells": [
  {
   "cell_type": "markdown",
   "id": "a47522f7",
   "metadata": {},
   "source": [
    "## Grupo 9 - Projeto NoteBook1"
   ]
  },
  {
   "cell_type": "markdown",
   "id": "ffe20fe6",
   "metadata": {},
   "source": [
    "Isto são apenas notas para mudar a diretoria, porque é aqui que trabalhamos o ficheiro"
   ]
  },
  {
   "cell_type": "code",
   "execution_count": 1,
   "id": "171b8eb1",
   "metadata": {},
   "outputs": [],
   "source": [
    "import os\n",
    "os.getcwd( )\n",
    "\n",
    "os.chdir('C:\\\\data') "
   ]
  },
  {
   "cell_type": "code",
   "execution_count": 2,
   "id": "375f5e9e",
   "metadata": {},
   "outputs": [
    {
     "data": {
      "text/plain": [
       "'C:\\\\data'"
      ]
     },
     "execution_count": 2,
     "metadata": {},
     "output_type": "execute_result"
    }
   ],
   "source": [
    "os.getcwd( )"
   ]
  },
  {
   "cell_type": "markdown",
   "id": "1ff7d3d9",
   "metadata": {},
   "source": [
    "### Imports necessários"
   ]
  },
  {
   "cell_type": "code",
   "execution_count": 3,
   "id": "9f05ae22",
   "metadata": {},
   "outputs": [],
   "source": [
    "## import packages\n",
    "\n",
    "import numpy as np\n",
    "import pandas as pd\n",
    "import random\n",
    "\n",
    "## for plotting\n",
    "import matplotlib.pyplot as plt\n",
    "import seaborn as sns\n",
    "\n",
    "## for machine learning\n",
    "from sklearn import model_selection, preprocessing, feature_selection, ensemble, linear_model, metrics, decomposition\n",
    "\n",
    "from sklearn.model_selection import train_test_split\n",
    "from sklearn.preprocessing import OneHotEncoder\n",
    "from sklearn.preprocessing import LabelEncoder\n",
    "from sklearn.datasets import load_diabetes\n",
    "from sklearn.preprocessing import StandardScaler\n",
    "from sklearn.decomposition import PCA\n",
    "\n",
    "## for statistical tests\n",
    "import scipy\n",
    "import statsmodels.formula.api as smf\n",
    "import statsmodels.api as sm\n",
    " \n",
    "## for explainer\n",
    "from lime import lime_tabular\n",
    "    \n",
    "## plot style and warnings    \n",
    "plt.style.use('ggplot')\n",
    "from IPython.display import display # Allows the use of display() for DataFrames\n",
    "import warnings\n",
    "warnings.filterwarnings('ignore')"
   ]
  },
  {
   "cell_type": "markdown",
   "id": "5245113f",
   "metadata": {},
   "source": [
    "## Abrir base de dados"
   ]
  },
  {
   "cell_type": "code",
   "execution_count": 4,
   "id": "1427ef5d",
   "metadata": {},
   "outputs": [],
   "source": [
    "df = pd.read_csv(\"atpplayers.csv\")"
   ]
  },
  {
   "cell_type": "code",
   "execution_count": 5,
   "id": "e4cc0039",
   "metadata": {},
   "outputs": [
    {
     "data": {
      "text/html": [
       "<div>\n",
       "<style scoped>\n",
       "    .dataframe tbody tr th:only-of-type {\n",
       "        vertical-align: middle;\n",
       "    }\n",
       "\n",
       "    .dataframe tbody tr th {\n",
       "        vertical-align: top;\n",
       "    }\n",
       "\n",
       "    .dataframe thead th {\n",
       "        text-align: right;\n",
       "    }\n",
       "</style>\n",
       "<table border=\"1\" class=\"dataframe\">\n",
       "  <thead>\n",
       "    <tr style=\"text-align: right;\">\n",
       "      <th></th>\n",
       "      <th>PlayerName</th>\n",
       "      <th>Born</th>\n",
       "      <th>Height</th>\n",
       "      <th>Hand</th>\n",
       "      <th>LinkPlayer</th>\n",
       "      <th>Tournament</th>\n",
       "      <th>Location</th>\n",
       "      <th>Date</th>\n",
       "      <th>Ground</th>\n",
       "      <th>Prize</th>\n",
       "      <th>GameRound</th>\n",
       "      <th>GameRank</th>\n",
       "      <th>Oponent</th>\n",
       "      <th>WL</th>\n",
       "      <th>Score</th>\n",
       "    </tr>\n",
       "  </thead>\n",
       "  <tbody>\n",
       "    <tr>\n",
       "      <th>0</th>\n",
       "      <td>Novak Djokovic</td>\n",
       "      <td>Belgrade, Serbia</td>\n",
       "      <td>188.0</td>\n",
       "      <td>Right-Handed, Two-Handed Backhand</td>\n",
       "      <td>https://www.atptour.com/en/players/novak-djoko...</td>\n",
       "      <td>Dubai</td>\n",
       "      <td>Dubai, U.A.E.</td>\n",
       "      <td>2022.02.21 - 2022.02.26</td>\n",
       "      <td>Hard</td>\n",
       "      <td>$2,794,840</td>\n",
       "      <td>Round of 16</td>\n",
       "      <td>26</td>\n",
       "      <td>Karen Khachanov</td>\n",
       "      <td>W</td>\n",
       "      <td>63 76</td>\n",
       "    </tr>\n",
       "    <tr>\n",
       "      <th>1</th>\n",
       "      <td>Novak Djokovic</td>\n",
       "      <td>Belgrade, Serbia</td>\n",
       "      <td>188.0</td>\n",
       "      <td>Right-Handed, Two-Handed Backhand</td>\n",
       "      <td>https://www.atptour.com/en/players/novak-djoko...</td>\n",
       "      <td>Dubai</td>\n",
       "      <td>Dubai, U.A.E.</td>\n",
       "      <td>2022.02.21 - 2022.02.26</td>\n",
       "      <td>Hard</td>\n",
       "      <td>$2,794,840</td>\n",
       "      <td>Quarter-Finals</td>\n",
       "      <td>123</td>\n",
       "      <td>Jiri Vesely</td>\n",
       "      <td>L</td>\n",
       "      <td>46 67</td>\n",
       "    </tr>\n",
       "    <tr>\n",
       "      <th>2</th>\n",
       "      <td>Novak Djokovic</td>\n",
       "      <td>Belgrade, Serbia</td>\n",
       "      <td>188.0</td>\n",
       "      <td>Right-Handed, Two-Handed Backhand</td>\n",
       "      <td>https://www.atptour.com/en/players/novak-djoko...</td>\n",
       "      <td>Nitto ATP Finals</td>\n",
       "      <td>Turin, Italy</td>\n",
       "      <td>2021.11.15 - 2021.11.21</td>\n",
       "      <td>Hard</td>\n",
       "      <td>$7,250,000</td>\n",
       "      <td>Round Robin</td>\n",
       "      <td>8</td>\n",
       "      <td>Casper Ruud</td>\n",
       "      <td>W</td>\n",
       "      <td>76,  62</td>\n",
       "    </tr>\n",
       "    <tr>\n",
       "      <th>3</th>\n",
       "      <td>Novak Djokovic</td>\n",
       "      <td>Belgrade, Serbia</td>\n",
       "      <td>188.0</td>\n",
       "      <td>Right-Handed, Two-Handed Backhand</td>\n",
       "      <td>https://www.atptour.com/en/players/novak-djoko...</td>\n",
       "      <td>Davis Cup Finals</td>\n",
       "      <td>Madrid, Spain</td>\n",
       "      <td>2021.11.22 - 2021.12.05</td>\n",
       "      <td>Hard</td>\n",
       "      <td>NaN</td>\n",
       "      <td>Round Robin</td>\n",
       "      <td>118</td>\n",
       "      <td>Dennis Novak</td>\n",
       "      <td>W</td>\n",
       "      <td>63 62</td>\n",
       "    </tr>\n",
       "    <tr>\n",
       "      <th>4</th>\n",
       "      <td>Novak Djokovic</td>\n",
       "      <td>Belgrade, Serbia</td>\n",
       "      <td>188.0</td>\n",
       "      <td>Right-Handed, Two-Handed Backhand</td>\n",
       "      <td>https://www.atptour.com/en/players/novak-djoko...</td>\n",
       "      <td>Dubai</td>\n",
       "      <td>Dubai, U.A.E.</td>\n",
       "      <td>2022.02.21 - 2022.02.26</td>\n",
       "      <td>Hard</td>\n",
       "      <td>$2,794,840</td>\n",
       "      <td>Round of 32</td>\n",
       "      <td>58</td>\n",
       "      <td>Lorenzo Musetti</td>\n",
       "      <td>W</td>\n",
       "      <td>63 63</td>\n",
       "    </tr>\n",
       "  </tbody>\n",
       "</table>\n",
       "</div>"
      ],
      "text/plain": [
       "       PlayerName              Born  Height  \\\n",
       "0  Novak Djokovic  Belgrade, Serbia   188.0   \n",
       "1  Novak Djokovic  Belgrade, Serbia   188.0   \n",
       "2  Novak Djokovic  Belgrade, Serbia   188.0   \n",
       "3  Novak Djokovic  Belgrade, Serbia   188.0   \n",
       "4  Novak Djokovic  Belgrade, Serbia   188.0   \n",
       "\n",
       "                                Hand  \\\n",
       "0  Right-Handed, Two-Handed Backhand   \n",
       "1  Right-Handed, Two-Handed Backhand   \n",
       "2  Right-Handed, Two-Handed Backhand   \n",
       "3  Right-Handed, Two-Handed Backhand   \n",
       "4  Right-Handed, Two-Handed Backhand   \n",
       "\n",
       "                                          LinkPlayer        Tournament  \\\n",
       "0  https://www.atptour.com/en/players/novak-djoko...             Dubai   \n",
       "1  https://www.atptour.com/en/players/novak-djoko...             Dubai   \n",
       "2  https://www.atptour.com/en/players/novak-djoko...  Nitto ATP Finals   \n",
       "3  https://www.atptour.com/en/players/novak-djoko...  Davis Cup Finals   \n",
       "4  https://www.atptour.com/en/players/novak-djoko...             Dubai   \n",
       "\n",
       "        Location                     Date Ground       Prize       GameRound  \\\n",
       "0  Dubai, U.A.E.  2022.02.21 - 2022.02.26   Hard  $2,794,840     Round of 16   \n",
       "1  Dubai, U.A.E.  2022.02.21 - 2022.02.26   Hard  $2,794,840  Quarter-Finals   \n",
       "2   Turin, Italy  2021.11.15 - 2021.11.21   Hard  $7,250,000     Round Robin   \n",
       "3  Madrid, Spain  2021.11.22 - 2021.12.05   Hard         NaN     Round Robin   \n",
       "4  Dubai, U.A.E.  2022.02.21 - 2022.02.26   Hard  $2,794,840     Round of 32   \n",
       "\n",
       "  GameRank          Oponent WL    Score  \n",
       "0       26  Karen Khachanov  W    63 76  \n",
       "1      123      Jiri Vesely  L    46 67  \n",
       "2        8      Casper Ruud  W  76,  62  \n",
       "3      118     Dennis Novak  W    63 62  \n",
       "4       58  Lorenzo Musetti  W    63 63  "
      ]
     },
     "execution_count": 5,
     "metadata": {},
     "output_type": "execute_result"
    }
   ],
   "source": [
    "df.head(5)"
   ]
  },
  {
   "cell_type": "markdown",
   "id": "1a26372e",
   "metadata": {},
   "source": [
    "### Estatísticas Descritivas"
   ]
  },
  {
   "cell_type": "markdown",
   "id": "f41ff4af",
   "metadata": {},
   "source": [
    "#### Dimensão da base de dados"
   ]
  },
  {
   "cell_type": "code",
   "execution_count": 6,
   "id": "af4b13e8",
   "metadata": {},
   "outputs": [
    {
     "data": {
      "text/plain": [
       "(1308835, 15)"
      ]
     },
     "execution_count": 6,
     "metadata": {},
     "output_type": "execute_result"
    }
   ],
   "source": [
    "df.shape"
   ]
  },
  {
   "cell_type": "markdown",
   "id": "428c22bd",
   "metadata": {},
   "source": [
    "Existem 1308835 registos associados a 15 colunas."
   ]
  },
  {
   "cell_type": "markdown",
   "id": "aea7650f",
   "metadata": {},
   "source": [
    "#### Informações sobre a base de dados (nomes das colunas e tipos das colunas)"
   ]
  },
  {
   "cell_type": "markdown",
   "id": "e14ffba1",
   "metadata": {},
   "source": [
    "Só existe uma variável quantitativa (Height), apesar de ser percetível que existem outras variáveis que são numéricas como : \n",
    "\n",
    "- Prize;\n",
    "- GameRank"
   ]
  },
  {
   "cell_type": "code",
   "execution_count": 7,
   "id": "22efe4a2",
   "metadata": {},
   "outputs": [
    {
     "name": "stdout",
     "output_type": "stream",
     "text": [
      "PlayerName     object\n",
      "Born           object\n",
      "Height        float64\n",
      "Hand           object\n",
      "LinkPlayer     object\n",
      "Tournament     object\n",
      "Location       object\n",
      "Date           object\n",
      "Ground         object\n",
      "Prize          object\n",
      "GameRound      object\n",
      "GameRank       object\n",
      "Oponent        object\n",
      "WL             object\n",
      "Score          object\n",
      "dtype: object\n"
     ]
    }
   ],
   "source": [
    "print(df.dtypes)"
   ]
  },
  {
   "cell_type": "code",
   "execution_count": 8,
   "id": "83e3ac9b",
   "metadata": {},
   "outputs": [
    {
     "data": {
      "text/plain": [
       "Index(['PlayerName', 'Born', 'Height', 'Hand', 'LinkPlayer', 'Tournament',\n",
       "       'Location', 'Date', 'Ground', 'Prize', 'GameRound', 'GameRank',\n",
       "       'Oponent', 'WL', 'Score'],\n",
       "      dtype='object')"
      ]
     },
     "execution_count": 8,
     "metadata": {},
     "output_type": "execute_result"
    }
   ],
   "source": [
    "df.columns"
   ]
  },
  {
   "cell_type": "code",
   "execution_count": 9,
   "id": "e0b6ee52",
   "metadata": {},
   "outputs": [
    {
     "name": "stdout",
     "output_type": "stream",
     "text": [
      "<class 'pandas.core.frame.DataFrame'>\n",
      "RangeIndex: 1308835 entries, 0 to 1308834\n",
      "Data columns (total 15 columns):\n",
      " #   Column      Non-Null Count    Dtype  \n",
      "---  ------      --------------    -----  \n",
      " 0   PlayerName  1308835 non-null  object \n",
      " 1   Born        988083 non-null   object \n",
      " 2   Height      982658 non-null   float64\n",
      " 3   Hand        1116918 non-null  object \n",
      " 4   LinkPlayer  1308835 non-null  object \n",
      " 5   Tournament  1308835 non-null  object \n",
      " 6   Location    1308835 non-null  object \n",
      " 7   Date        1308835 non-null  object \n",
      " 8   Ground      1308644 non-null  object \n",
      " 9   Prize       1289699 non-null  object \n",
      " 10  GameRound   1308835 non-null  object \n",
      " 11  GameRank    1289599 non-null  object \n",
      " 12  Oponent     1308828 non-null  object \n",
      " 13  WL          1289578 non-null  object \n",
      " 14  Score       1289435 non-null  object \n",
      "dtypes: float64(1), object(14)\n",
      "memory usage: 149.8+ MB\n"
     ]
    }
   ],
   "source": [
    "df.info()"
   ]
  },
  {
   "cell_type": "markdown",
   "id": "59e3530f",
   "metadata": {},
   "source": [
    "É percetível que as seguintes variáveis tem valores omissos:\n",
    "\n",
    "- Born;\n",
    "- Height;\n",
    "- Hand;\n",
    "- Prize;\n",
    "- GameRank;\n",
    "- Oponent;\n",
    "- WL;\n",
    "- Score."
   ]
  },
  {
   "cell_type": "markdown",
   "id": "179beeee",
   "metadata": {},
   "source": [
    "###### Função Describe"
   ]
  },
  {
   "cell_type": "markdown",
   "id": "cdb7210c",
   "metadata": {},
   "source": [
    "A função describe só se usa para variáveis numéricas, como foi dito acima, neste momento só existe uma variável (Height), portanto, é normal que o describe só se aplique uma vez."
   ]
  },
  {
   "cell_type": "code",
   "execution_count": 10,
   "id": "f9595038",
   "metadata": {},
   "outputs": [
    {
     "data": {
      "text/html": [
       "<div>\n",
       "<style scoped>\n",
       "    .dataframe tbody tr th:only-of-type {\n",
       "        vertical-align: middle;\n",
       "    }\n",
       "\n",
       "    .dataframe tbody tr th {\n",
       "        vertical-align: top;\n",
       "    }\n",
       "\n",
       "    .dataframe thead th {\n",
       "        text-align: right;\n",
       "    }\n",
       "</style>\n",
       "<table border=\"1\" class=\"dataframe\">\n",
       "  <thead>\n",
       "    <tr style=\"text-align: right;\">\n",
       "      <th></th>\n",
       "      <th>Height</th>\n",
       "    </tr>\n",
       "  </thead>\n",
       "  <tbody>\n",
       "    <tr>\n",
       "      <th>count</th>\n",
       "      <td>982658.000000</td>\n",
       "    </tr>\n",
       "    <tr>\n",
       "      <th>mean</th>\n",
       "      <td>181.248822</td>\n",
       "    </tr>\n",
       "    <tr>\n",
       "      <th>std</th>\n",
       "      <td>24.956836</td>\n",
       "    </tr>\n",
       "    <tr>\n",
       "      <th>min</th>\n",
       "      <td>0.000000</td>\n",
       "    </tr>\n",
       "    <tr>\n",
       "      <th>25%</th>\n",
       "      <td>180.000000</td>\n",
       "    </tr>\n",
       "    <tr>\n",
       "      <th>50%</th>\n",
       "      <td>183.000000</td>\n",
       "    </tr>\n",
       "    <tr>\n",
       "      <th>75%</th>\n",
       "      <td>188.000000</td>\n",
       "    </tr>\n",
       "    <tr>\n",
       "      <th>max</th>\n",
       "      <td>510.000000</td>\n",
       "    </tr>\n",
       "  </tbody>\n",
       "</table>\n",
       "</div>"
      ],
      "text/plain": [
       "              Height\n",
       "count  982658.000000\n",
       "mean      181.248822\n",
       "std        24.956836\n",
       "min         0.000000\n",
       "25%       180.000000\n",
       "50%       183.000000\n",
       "75%       188.000000\n",
       "max       510.000000"
      ]
     },
     "execution_count": 10,
     "metadata": {},
     "output_type": "execute_result"
    }
   ],
   "source": [
    "df.describe()"
   ]
  },
  {
   "cell_type": "markdown",
   "id": "2a864c1a",
   "metadata": {},
   "source": [
    "Nota: Existem outliers nesta variável uma vez que, o máximo desta variável é 510 (altura medida em centímetros) e como é obvio, não existe uma pessoa no mundo que meça 510 cm."
   ]
  },
  {
   "cell_type": "markdown",
   "id": "de996ba6",
   "metadata": {},
   "source": [
    "#### Valores únicos"
   ]
  },
  {
   "cell_type": "code",
   "execution_count": 11,
   "id": "ce737eed",
   "metadata": {},
   "outputs": [
    {
     "name": "stdout",
     "output_type": "stream",
     "text": [
      "['Dubai, U.A.E.' 'Turin, Italy' 'Madrid, Spain' ... 'Columbia, SC, U.S.A.'\n",
      " 'Reinach, Switzerland' 'Lakeway, TX, U.S.A.']\n",
      "Temos 2512 valores únicos na nova variável\n"
     ]
    }
   ],
   "source": [
    "print(df[\"Location\"].unique())\n",
    "\n",
    "count = 0\n",
    "for x in df[\"Location\"].unique():\n",
    "    count= count+1\n",
    "print('Temos ' + str(count) + ' valores únicos na nova variável')"
   ]
  },
  {
   "cell_type": "markdown",
   "id": "a1c7cb85",
   "metadata": {},
   "source": [
    "### 'Splits'\n",
    "Em baixo, realizaremos a função split que permitirá ir buscar o último valor da coluna Location, que predominantemente será o nome do país.\n",
    "\n",
    "Também criamos uma nova coluna, last_word_location, onde vamos guardar essa variável."
   ]
  },
  {
   "cell_type": "code",
   "execution_count": 12,
   "id": "27f67bee",
   "metadata": {},
   "outputs": [],
   "source": [
    "df['last_word_location'] = df['Location'].str.split().str[-1]"
   ]
  },
  {
   "cell_type": "code",
   "execution_count": 13,
   "id": "f93a004d",
   "metadata": {},
   "outputs": [
    {
     "data": {
      "text/plain": [
       "array(['U.A.E.', 'Italy', 'Spain', 'U.S.A.', 'Japan', 'France', 'Britain',\n",
       "       'Serbia', 'Monaco', 'Australia', 'Austria', 'China', 'Qatar',\n",
       "       'Canada', 'Mexico', 'Brazil', 'States', 'Belgium', 'Switzerland',\n",
       "       'Croatia', 'Netherlands', 'Germany', 'Thailand', 'Republic',\n",
       "       'Russia', 'Portugal', 'Israel', 'Scotland', 'England', 'SCG', 'M',\n",
       "       'Finland', 'Romania', 'Hungary', 'Montenegro', 'Bulgaria', 'India',\n",
       "       'Slovakia', 'Slovenia', 'Kazakhstan', 'Taipei', 'Belarus',\n",
       "       'Tunisia', 'Georgia', 'Estonia', 'Argentina', 'Denmark', 'Chile',\n",
       "       'Sweden', 'Ita', 'Zealand', 'Poland', 'Czechoslovakia',\n",
       "       'Yugoslavia', 'Barcelona', 'Morocco', 'Malaysia', 'Turkey',\n",
       "       'Colombia', 'Panama', 'Doha', 'Marino', 'Philippines',\n",
       "       'Guadeloupe', 'Caledonia', 'Greece', 'Cyprus', 'Uzbekistan',\n",
       "       'Norway', 'USA', 'Ecuador', 'Uruguay', 'Peru', 'Latvia',\n",
       "       'Luxembourg', 'Lithuania', 'Herzegovina', 'Korea', 'U.S.A',\n",
       "       'Egypt', 'Vietnam', 'Paraguay', 'Bolivia', 'Armenia', 'Bermuda',\n",
       "       'Singapore', 'Africa', 'TBA', 'Togo', 'Island', 'Toulouse',\n",
       "       'Casablanca', 'Neuchatel', 'Switz.', 'Ireland', 'Barbados', 'Rica',\n",
       "       'Guatemala', 'Iran', 'Zimbabwe', 'Mozambique', 'Nigeria',\n",
       "       'Senegal', 'Moldovia', 'Cambodia', 'Bahrain', 'Kong', 'Pakistan',\n",
       "       'Ukraine', 'Kuwait', 'Azerbaijan', 'Lanka', 'Taiwan', 'Moldova',\n",
       "       'Algeria', 'Rico', 'Salvador', 'Venezuela', 'Gabon', 'Indonesia',\n",
       "       'Cuba', 'Col', 'Haiti', 'Domingo', 'R', 'Andorra', 'Coast',\n",
       "       'Mauritius', 'Jamaica', 'Nicaragua', 'Bosnia', 'Wales', 'Lebanon',\n",
       "       'Macedonia', 'Macedona', 'Bakio', 'Hague', 'Solvenia',\n",
       "       'Bourg-en-Bresse', 'Monastir', 'Antalya', 'Guam', 'Tasmania',\n",
       "       'Wrocklaw', 'Canda', 'Rwanda', 'Burundi', 'Sudan', 'Uganda',\n",
       "       'Valldoreix', 'Wetzlar', 'Cameroon', 'Faro', 'Crotia', 'Estoril',\n",
       "       'Brazi', 'Belgrade', 'Uriage', 'Aires', 'Esch-sur-Alzette',\n",
       "       'Texas', 'Arabia', 'Tunis', 'Eygpt', 'Victoria', 'Ontaria',\n",
       "       'Hasharon', 'Kenya', 'Syria', 'Sheikh', 'AR', 'London', 'Yug.',\n",
       "       'Honduras', 'Korolev', 'Ta', 'Kaohsiung', 'TBD', 'Lampur', 'TPE',\n",
       "       'Forbach', 'Guarulhos', 'Ghana', 'Guayaquil', 'Melilla', 'Zealan',\n",
       "       'Aruba', 'Laos', 'Hunary', 'Brasilia', 'Bolivia/Chile', 'Anti',\n",
       "       'Toluca', 'City', 'Taip', 'Portschach', 'Constanta', 'Slovak',\n",
       "       'Myanmar', 'Oman', 'Samoa', 'Phillipines', 'NZ', 'Lahore',\n",
       "       'Madagascar', 'Esch/Alzette', 'TBC', 'Mondorf-Les-Bains', 'Moscow',\n",
       "       'Botwana', 'Columbia', 'Villavicencio', 'Alberta', 'Janeiro',\n",
       "       'Calgary', 'Devon', 'TRI', 'Nethe', 'Salinas', 'Bahamas', 'HKG',\n",
       "       'Argent', 'Bangkok', 'Oceania', 'Slovkia', 'Namibia',\n",
       "       'Johannesburg', 'OK', 'Liege', 'Tajikistan', 'Minsk', 'Calabria',\n",
       "       'Sardinia', 'Perth', 'Florianapolis', 'Bucharest', 'Portoroz',\n",
       "       'Polokwane', 'Jordan', 'Hu', 'Tashkent', 'THA', 'Meixco',\n",
       "       'Pretoria', 'Devonport', 'Bangladesh', 'Beach', 'Isra', 'Aut.',\n",
       "       'ISR', 'Nanjing', 'Havana', 'Habana', 'COL', 'Mallorca',\n",
       "       'Elndhoven', 'Braz', 'Bahia', 'NED', 'BRA', 'Arg.', 'Presov',\n",
       "       'Santiago', 'Manila', 'Wuhan', 'Manilla', 'Antil', 'Bratislava',\n",
       "       'Abidjan', 'Sie', 'Kakhovka', 'S', 'South', 'Mexica', 'ARG',\n",
       "       'Lara', 'GUA', 'D.R.', 'Brunei', \"'s-Hertogenbosch\", 'Kolkata',\n",
       "       'Dublin', 'Repub', 'Braunschweig', 'CIV', 'DEN.', 'Caledoni',\n",
       "       'Antilles', 'Tehran', 'URU', 'Pau', 'GBR', 'Malta', 'Nelspruit',\n",
       "       'MAS', 'Rep.', 'CZE', 'Wellington', 'Harare', 'SA', 'INA', 'NZL',\n",
       "       'Montevideo', 'Uraguay', 'Willemstad', 'Jakarta', 'UK', 'Uzb.',\n",
       "       'Surabaya', 'PHI', 'Venezeuela', 'Union', 'Egpyt', 'Urugay',\n",
       "       'Caribbean', 'Curacao'], dtype=object)"
      ]
     },
     "execution_count": 13,
     "metadata": {},
     "output_type": "execute_result"
    }
   ],
   "source": [
    "df['last_word_location'].unique()"
   ]
  },
  {
   "cell_type": "markdown",
   "id": "eb3e9b85",
   "metadata": {},
   "source": [
    "A China tem os valores limpos. \n",
    "\n",
    "Outro ponto importante, vai ser a transformação do Taiwan (que na base de dados, está denominado como Taip e Taipei) em China."
   ]
  },
  {
   "cell_type": "code",
   "execution_count": 14,
   "id": "f301e179",
   "metadata": {},
   "outputs": [],
   "source": [
    "df.loc[df['last_word_location'] == 'Taipei', 'last_word_location'] = 'China'\n",
    "df.loc[df['last_word_location'] == 'Taip', 'last_word_location'] = 'China'"
   ]
  },
  {
   "cell_type": "markdown",
   "id": "b2bf86aa",
   "metadata": {},
   "source": [
    "Em baixo, vamos perceber quantos registos temos associados à China:"
   ]
  },
  {
   "cell_type": "code",
   "execution_count": 15,
   "id": "0cec94aa",
   "metadata": {},
   "outputs": [
    {
     "data": {
      "text/plain": [
       "26357"
      ]
     },
     "execution_count": 15,
     "metadata": {},
     "output_type": "execute_result"
    }
   ],
   "source": [
    "(df['last_word_location'] == 'China').sum()"
   ]
  },
  {
   "cell_type": "markdown",
   "id": "37c22f15",
   "metadata": {},
   "source": [
    "Em baixo, vamos verificar novamente os valores únicos, para verificar se o Taiwan ainda está na lista de valores únicos."
   ]
  },
  {
   "cell_type": "code",
   "execution_count": 16,
   "id": "b9273d88",
   "metadata": {},
   "outputs": [
    {
     "data": {
      "text/plain": [
       "array(['U.A.E.', 'Italy', 'Spain', 'U.S.A.', 'Japan', 'France', 'Britain',\n",
       "       'Serbia', 'Monaco', 'Australia', 'Austria', 'China', 'Qatar',\n",
       "       'Canada', 'Mexico', 'Brazil', 'States', 'Belgium', 'Switzerland',\n",
       "       'Croatia', 'Netherlands', 'Germany', 'Thailand', 'Republic',\n",
       "       'Russia', 'Portugal', 'Israel', 'Scotland', 'England', 'SCG', 'M',\n",
       "       'Finland', 'Romania', 'Hungary', 'Montenegro', 'Bulgaria', 'India',\n",
       "       'Slovakia', 'Slovenia', 'Kazakhstan', 'Belarus', 'Tunisia',\n",
       "       'Georgia', 'Estonia', 'Argentina', 'Denmark', 'Chile', 'Sweden',\n",
       "       'Ita', 'Zealand', 'Poland', 'Czechoslovakia', 'Yugoslavia',\n",
       "       'Barcelona', 'Morocco', 'Malaysia', 'Turkey', 'Colombia', 'Panama',\n",
       "       'Doha', 'Marino', 'Philippines', 'Guadeloupe', 'Caledonia',\n",
       "       'Greece', 'Cyprus', 'Uzbekistan', 'Norway', 'USA', 'Ecuador',\n",
       "       'Uruguay', 'Peru', 'Latvia', 'Luxembourg', 'Lithuania',\n",
       "       'Herzegovina', 'Korea', 'U.S.A', 'Egypt', 'Vietnam', 'Paraguay',\n",
       "       'Bolivia', 'Armenia', 'Bermuda', 'Singapore', 'Africa', 'TBA',\n",
       "       'Togo', 'Island', 'Toulouse', 'Casablanca', 'Neuchatel', 'Switz.',\n",
       "       'Ireland', 'Barbados', 'Rica', 'Guatemala', 'Iran', 'Zimbabwe',\n",
       "       'Mozambique', 'Nigeria', 'Senegal', 'Moldovia', 'Cambodia',\n",
       "       'Bahrain', 'Kong', 'Pakistan', 'Ukraine', 'Kuwait', 'Azerbaijan',\n",
       "       'Lanka', 'Taiwan', 'Moldova', 'Algeria', 'Rico', 'Salvador',\n",
       "       'Venezuela', 'Gabon', 'Indonesia', 'Cuba', 'Col', 'Haiti',\n",
       "       'Domingo', 'R', 'Andorra', 'Coast', 'Mauritius', 'Jamaica',\n",
       "       'Nicaragua', 'Bosnia', 'Wales', 'Lebanon', 'Macedonia', 'Macedona',\n",
       "       'Bakio', 'Hague', 'Solvenia', 'Bourg-en-Bresse', 'Monastir',\n",
       "       'Antalya', 'Guam', 'Tasmania', 'Wrocklaw', 'Canda', 'Rwanda',\n",
       "       'Burundi', 'Sudan', 'Uganda', 'Valldoreix', 'Wetzlar', 'Cameroon',\n",
       "       'Faro', 'Crotia', 'Estoril', 'Brazi', 'Belgrade', 'Uriage',\n",
       "       'Aires', 'Esch-sur-Alzette', 'Texas', 'Arabia', 'Tunis', 'Eygpt',\n",
       "       'Victoria', 'Ontaria', 'Hasharon', 'Kenya', 'Syria', 'Sheikh',\n",
       "       'AR', 'London', 'Yug.', 'Honduras', 'Korolev', 'Ta', 'Kaohsiung',\n",
       "       'TBD', 'Lampur', 'TPE', 'Forbach', 'Guarulhos', 'Ghana',\n",
       "       'Guayaquil', 'Melilla', 'Zealan', 'Aruba', 'Laos', 'Hunary',\n",
       "       'Brasilia', 'Bolivia/Chile', 'Anti', 'Toluca', 'City',\n",
       "       'Portschach', 'Constanta', 'Slovak', 'Myanmar', 'Oman', 'Samoa',\n",
       "       'Phillipines', 'NZ', 'Lahore', 'Madagascar', 'Esch/Alzette', 'TBC',\n",
       "       'Mondorf-Les-Bains', 'Moscow', 'Botwana', 'Columbia',\n",
       "       'Villavicencio', 'Alberta', 'Janeiro', 'Calgary', 'Devon', 'TRI',\n",
       "       'Nethe', 'Salinas', 'Bahamas', 'HKG', 'Argent', 'Bangkok',\n",
       "       'Oceania', 'Slovkia', 'Namibia', 'Johannesburg', 'OK', 'Liege',\n",
       "       'Tajikistan', 'Minsk', 'Calabria', 'Sardinia', 'Perth',\n",
       "       'Florianapolis', 'Bucharest', 'Portoroz', 'Polokwane', 'Jordan',\n",
       "       'Hu', 'Tashkent', 'THA', 'Meixco', 'Pretoria', 'Devonport',\n",
       "       'Bangladesh', 'Beach', 'Isra', 'Aut.', 'ISR', 'Nanjing', 'Havana',\n",
       "       'Habana', 'COL', 'Mallorca', 'Elndhoven', 'Braz', 'Bahia', 'NED',\n",
       "       'BRA', 'Arg.', 'Presov', 'Santiago', 'Manila', 'Wuhan', 'Manilla',\n",
       "       'Antil', 'Bratislava', 'Abidjan', 'Sie', 'Kakhovka', 'S', 'South',\n",
       "       'Mexica', 'ARG', 'Lara', 'GUA', 'D.R.', 'Brunei',\n",
       "       \"'s-Hertogenbosch\", 'Kolkata', 'Dublin', 'Repub', 'Braunschweig',\n",
       "       'CIV', 'DEN.', 'Caledoni', 'Antilles', 'Tehran', 'URU', 'Pau',\n",
       "       'GBR', 'Malta', 'Nelspruit', 'MAS', 'Rep.', 'CZE', 'Wellington',\n",
       "       'Harare', 'SA', 'INA', 'NZL', 'Montevideo', 'Uraguay',\n",
       "       'Willemstad', 'Jakarta', 'UK', 'Uzb.', 'Surabaya', 'PHI',\n",
       "       'Venezeuela', 'Union', 'Egpyt', 'Urugay', 'Caribbean', 'Curacao'],\n",
       "      dtype=object)"
      ]
     },
     "execution_count": 16,
     "metadata": {},
     "output_type": "execute_result"
    }
   ],
   "source": [
    "df['last_word_location'].unique()"
   ]
  },
  {
   "cell_type": "markdown",
   "id": "cea7f08e",
   "metadata": {},
   "source": [
    "Em cima, podemos concluir que, nesta base de dados, o Taiwan foi transformado em China."
   ]
  },
  {
   "cell_type": "code",
   "execution_count": 21,
   "id": "2744ff6a",
   "metadata": {},
   "outputs": [
    {
     "data": {
      "image/png": "[encoded data removed]",
      "text/plain": [
       "<Figure size 1080x288 with 1 Axes>"
      ]
     },
     "metadata": {},
     "output_type": "display_data"
    }
   ],
   "source": [
    "### gráfico de barras das colunas ordenadas em função de número de valores omissos (do menor ao maior)\n",
    "## usamos a função .isna() - para detetar os valores omissos e a função .sort_values() - para ordenar as colunas/variáveis\n",
    "df.isna().mean().sort_values().plot(kind=\"bar\", figsize=(15, 4),\n",
    "title=\"Percentage of missing values per feature\",ylabel=\"Ratio of missing values per feature\");"
   ]
  },
  {
   "cell_type": "code",
   "execution_count": 17,
   "id": "27a4cd32",
   "metadata": {},
   "outputs": [
    {
     "name": "stdout",
     "output_type": "stream",
     "text": [
      "PlayerName                 0\n",
      "Born                  320752\n",
      "Height                326177\n",
      "Hand                  191917\n",
      "LinkPlayer                 0\n",
      "Tournament                 0\n",
      "Location                   0\n",
      "Date                       0\n",
      "Ground                   191\n",
      "Prize                  19136\n",
      "GameRound                  0\n",
      "GameRank               19236\n",
      "Oponent                    7\n",
      "WL                     19257\n",
      "Score                  19400\n",
      "last_word_location         0\n",
      "dtype: int64\n"
     ]
    }
   ],
   "source": [
    "nan_count = df.isna().sum()\n",
    "print(nan_count)"
   ]
  },
  {
   "cell_type": "markdown",
   "id": "a43172f9",
   "metadata": {},
   "source": [
    "### Criação de um novo DataFrame\n",
    "\n",
    "Em baixo, vamos criar um novo data frame, um dataframe que contenha apenas os jogos que são jogados na China, uma vez que, não faz sentido, limpar os dados de todos os jogos que são jogados no mundo inteiro.\n",
    "\n",
    "Então, vai ser criado, um df_clean, que vai buscar à coluna acima criada (last_word_location), apenas os que têm como China nessa variável."
   ]
  },
  {
   "cell_type": "code",
   "execution_count": 18,
   "id": "fa7a3b2d",
   "metadata": {},
   "outputs": [],
   "source": [
    "df_clean = df.loc[df['last_word_location'] == 'China']"
   ]
  },
  {
   "cell_type": "code",
   "execution_count": 25,
   "id": "acd004bd",
   "metadata": {},
   "outputs": [
    {
     "ename": "KeyError",
     "evalue": "\"['Location'] not found in axis\"",
     "output_type": "error",
     "traceback": [
      "\u001b[1;31m---------------------------------------------------------------------------\u001b[0m",
      "\u001b[1;31mKeyError\u001b[0m                                  Traceback (most recent call last)",
      "Input \u001b[1;32mIn [25]\u001b[0m, in \u001b[0;36m<cell line: 1>\u001b[1;34m()\u001b[0m\n\u001b[1;32m----> 1\u001b[0m df_clean \u001b[38;5;241m=\u001b[39m \u001b[43mdf_clean\u001b[49m\u001b[38;5;241;43m.\u001b[39;49m\u001b[43mdrop\u001b[49m\u001b[43m(\u001b[49m\u001b[38;5;124;43m'\u001b[39;49m\u001b[38;5;124;43mLocation\u001b[39;49m\u001b[38;5;124;43m'\u001b[39;49m\u001b[43m,\u001b[49m\u001b[43m \u001b[49m\u001b[43maxis\u001b[49m\u001b[38;5;241;43m=\u001b[39;49m\u001b[38;5;241;43m1\u001b[39;49m\u001b[43m)\u001b[49m\n",
      "File \u001b[1;32m~\\anaconda3\\lib\\site-packages\\pandas\\util\\_decorators.py:311\u001b[0m, in \u001b[0;36mdeprecate_nonkeyword_arguments.<locals>.decorate.<locals>.wrapper\u001b[1;34m(*args, **kwargs)\u001b[0m\n\u001b[0;32m    305\u001b[0m \u001b[38;5;28;01mif\u001b[39;00m \u001b[38;5;28mlen\u001b[39m(args) \u001b[38;5;241m>\u001b[39m num_allow_args:\n\u001b[0;32m    306\u001b[0m     warnings\u001b[38;5;241m.\u001b[39mwarn(\n\u001b[0;32m    307\u001b[0m         msg\u001b[38;5;241m.\u001b[39mformat(arguments\u001b[38;5;241m=\u001b[39marguments),\n\u001b[0;32m    308\u001b[0m         \u001b[38;5;167;01mFutureWarning\u001b[39;00m,\n\u001b[0;32m    309\u001b[0m         stacklevel\u001b[38;5;241m=\u001b[39mstacklevel,\n\u001b[0;32m    310\u001b[0m     )\n\u001b[1;32m--> 311\u001b[0m \u001b[38;5;28;01mreturn\u001b[39;00m func(\u001b[38;5;241m*\u001b[39margs, \u001b[38;5;241m*\u001b[39m\u001b[38;5;241m*\u001b[39mkwargs)\n",
      "File \u001b[1;32m~\\anaconda3\\lib\\site-packages\\pandas\\core\\frame.py:4954\u001b[0m, in \u001b[0;36mDataFrame.drop\u001b[1;34m(self, labels, axis, index, columns, level, inplace, errors)\u001b[0m\n\u001b[0;32m   4806\u001b[0m \u001b[38;5;129m@deprecate_nonkeyword_arguments\u001b[39m(version\u001b[38;5;241m=\u001b[39m\u001b[38;5;28;01mNone\u001b[39;00m, allowed_args\u001b[38;5;241m=\u001b[39m[\u001b[38;5;124m\"\u001b[39m\u001b[38;5;124mself\u001b[39m\u001b[38;5;124m\"\u001b[39m, \u001b[38;5;124m\"\u001b[39m\u001b[38;5;124mlabels\u001b[39m\u001b[38;5;124m\"\u001b[39m])\n\u001b[0;32m   4807\u001b[0m \u001b[38;5;28;01mdef\u001b[39;00m \u001b[38;5;21mdrop\u001b[39m(\n\u001b[0;32m   4808\u001b[0m     \u001b[38;5;28mself\u001b[39m,\n\u001b[1;32m   (...)\u001b[0m\n\u001b[0;32m   4815\u001b[0m     errors: \u001b[38;5;28mstr\u001b[39m \u001b[38;5;241m=\u001b[39m \u001b[38;5;124m\"\u001b[39m\u001b[38;5;124mraise\u001b[39m\u001b[38;5;124m\"\u001b[39m,\n\u001b[0;32m   4816\u001b[0m ):\n\u001b[0;32m   4817\u001b[0m     \u001b[38;5;124;03m\"\"\"\u001b[39;00m\n\u001b[0;32m   4818\u001b[0m \u001b[38;5;124;03m    Drop specified labels from rows or columns.\u001b[39;00m\n\u001b[0;32m   4819\u001b[0m \n\u001b[1;32m   (...)\u001b[0m\n\u001b[0;32m   4952\u001b[0m \u001b[38;5;124;03m            weight  1.0     0.8\u001b[39;00m\n\u001b[0;32m   4953\u001b[0m \u001b[38;5;124;03m    \"\"\"\u001b[39;00m\n\u001b[1;32m-> 4954\u001b[0m     \u001b[38;5;28;01mreturn\u001b[39;00m \u001b[38;5;28;43msuper\u001b[39;49m\u001b[43m(\u001b[49m\u001b[43m)\u001b[49m\u001b[38;5;241;43m.\u001b[39;49m\u001b[43mdrop\u001b[49m\u001b[43m(\u001b[49m\n\u001b[0;32m   4955\u001b[0m \u001b[43m        \u001b[49m\u001b[43mlabels\u001b[49m\u001b[38;5;241;43m=\u001b[39;49m\u001b[43mlabels\u001b[49m\u001b[43m,\u001b[49m\n\u001b[0;32m   4956\u001b[0m \u001b[43m        \u001b[49m\u001b[43maxis\u001b[49m\u001b[38;5;241;43m=\u001b[39;49m\u001b[43maxis\u001b[49m\u001b[43m,\u001b[49m\n\u001b[0;32m   4957\u001b[0m \u001b[43m        \u001b[49m\u001b[43mindex\u001b[49m\u001b[38;5;241;43m=\u001b[39;49m\u001b[43mindex\u001b[49m\u001b[43m,\u001b[49m\n\u001b[0;32m   4958\u001b[0m \u001b[43m        \u001b[49m\u001b[43mcolumns\u001b[49m\u001b[38;5;241;43m=\u001b[39;49m\u001b[43mcolumns\u001b[49m\u001b[43m,\u001b[49m\n\u001b[0;32m   4959\u001b[0m \u001b[43m        \u001b[49m\u001b[43mlevel\u001b[49m\u001b[38;5;241;43m=\u001b[39;49m\u001b[43mlevel\u001b[49m\u001b[43m,\u001b[49m\n\u001b[0;32m   4960\u001b[0m \u001b[43m        \u001b[49m\u001b[43minplace\u001b[49m\u001b[38;5;241;43m=\u001b[39;49m\u001b[43minplace\u001b[49m\u001b[43m,\u001b[49m\n\u001b[0;32m   4961\u001b[0m \u001b[43m        \u001b[49m\u001b[43merrors\u001b[49m\u001b[38;5;241;43m=\u001b[39;49m\u001b[43merrors\u001b[49m\u001b[43m,\u001b[49m\n\u001b[0;32m   4962\u001b[0m \u001b[43m    \u001b[49m\u001b[43m)\u001b[49m\n",
      "File \u001b[1;32m~\\anaconda3\\lib\\site-packages\\pandas\\core\\generic.py:4267\u001b[0m, in \u001b[0;36mNDFrame.drop\u001b[1;34m(self, labels, axis, index, columns, level, inplace, errors)\u001b[0m\n\u001b[0;32m   4265\u001b[0m \u001b[38;5;28;01mfor\u001b[39;00m axis, labels \u001b[38;5;129;01min\u001b[39;00m axes\u001b[38;5;241m.\u001b[39mitems():\n\u001b[0;32m   4266\u001b[0m     \u001b[38;5;28;01mif\u001b[39;00m labels \u001b[38;5;129;01mis\u001b[39;00m \u001b[38;5;129;01mnot\u001b[39;00m \u001b[38;5;28;01mNone\u001b[39;00m:\n\u001b[1;32m-> 4267\u001b[0m         obj \u001b[38;5;241m=\u001b[39m \u001b[43mobj\u001b[49m\u001b[38;5;241;43m.\u001b[39;49m\u001b[43m_drop_axis\u001b[49m\u001b[43m(\u001b[49m\u001b[43mlabels\u001b[49m\u001b[43m,\u001b[49m\u001b[43m \u001b[49m\u001b[43maxis\u001b[49m\u001b[43m,\u001b[49m\u001b[43m \u001b[49m\u001b[43mlevel\u001b[49m\u001b[38;5;241;43m=\u001b[39;49m\u001b[43mlevel\u001b[49m\u001b[43m,\u001b[49m\u001b[43m \u001b[49m\u001b[43merrors\u001b[49m\u001b[38;5;241;43m=\u001b[39;49m\u001b[43merrors\u001b[49m\u001b[43m)\u001b[49m\n\u001b[0;32m   4269\u001b[0m \u001b[38;5;28;01mif\u001b[39;00m inplace:\n\u001b[0;32m   4270\u001b[0m     \u001b[38;5;28mself\u001b[39m\u001b[38;5;241m.\u001b[39m_update_inplace(obj)\n",
      "File \u001b[1;32m~\\anaconda3\\lib\\site-packages\\pandas\\core\\generic.py:4311\u001b[0m, in \u001b[0;36mNDFrame._drop_axis\u001b[1;34m(self, labels, axis, level, errors, consolidate, only_slice)\u001b[0m\n\u001b[0;32m   4309\u001b[0m         new_axis \u001b[38;5;241m=\u001b[39m axis\u001b[38;5;241m.\u001b[39mdrop(labels, level\u001b[38;5;241m=\u001b[39mlevel, errors\u001b[38;5;241m=\u001b[39merrors)\n\u001b[0;32m   4310\u001b[0m     \u001b[38;5;28;01melse\u001b[39;00m:\n\u001b[1;32m-> 4311\u001b[0m         new_axis \u001b[38;5;241m=\u001b[39m \u001b[43maxis\u001b[49m\u001b[38;5;241;43m.\u001b[39;49m\u001b[43mdrop\u001b[49m\u001b[43m(\u001b[49m\u001b[43mlabels\u001b[49m\u001b[43m,\u001b[49m\u001b[43m \u001b[49m\u001b[43merrors\u001b[49m\u001b[38;5;241;43m=\u001b[39;49m\u001b[43merrors\u001b[49m\u001b[43m)\u001b[49m\n\u001b[0;32m   4312\u001b[0m     indexer \u001b[38;5;241m=\u001b[39m axis\u001b[38;5;241m.\u001b[39mget_indexer(new_axis)\n\u001b[0;32m   4314\u001b[0m \u001b[38;5;66;03m# Case for non-unique axis\u001b[39;00m\n\u001b[0;32m   4315\u001b[0m \u001b[38;5;28;01melse\u001b[39;00m:\n",
      "File \u001b[1;32m~\\anaconda3\\lib\\site-packages\\pandas\\core\\indexes\\base.py:6644\u001b[0m, in \u001b[0;36mIndex.drop\u001b[1;34m(self, labels, errors)\u001b[0m\n\u001b[0;32m   6642\u001b[0m \u001b[38;5;28;01mif\u001b[39;00m mask\u001b[38;5;241m.\u001b[39many():\n\u001b[0;32m   6643\u001b[0m     \u001b[38;5;28;01mif\u001b[39;00m errors \u001b[38;5;241m!=\u001b[39m \u001b[38;5;124m\"\u001b[39m\u001b[38;5;124mignore\u001b[39m\u001b[38;5;124m\"\u001b[39m:\n\u001b[1;32m-> 6644\u001b[0m         \u001b[38;5;28;01mraise\u001b[39;00m \u001b[38;5;167;01mKeyError\u001b[39;00m(\u001b[38;5;124mf\u001b[39m\u001b[38;5;124m\"\u001b[39m\u001b[38;5;132;01m{\u001b[39;00m\u001b[38;5;28mlist\u001b[39m(labels[mask])\u001b[38;5;132;01m}\u001b[39;00m\u001b[38;5;124m not found in axis\u001b[39m\u001b[38;5;124m\"\u001b[39m)\n\u001b[0;32m   6645\u001b[0m     indexer \u001b[38;5;241m=\u001b[39m indexer[\u001b[38;5;241m~\u001b[39mmask]\n\u001b[0;32m   6646\u001b[0m \u001b[38;5;28;01mreturn\u001b[39;00m \u001b[38;5;28mself\u001b[39m\u001b[38;5;241m.\u001b[39mdelete(indexer)\n",
      "\u001b[1;31mKeyError\u001b[0m: \"['Location'] not found in axis\""
     ]
    }
   ],
   "source": [
    "df_clean = df_clean.drop('Location', axis=1)"
   ]
  },
  {
   "cell_type": "code",
   "execution_count": 28,
   "id": "bed9c449",
   "metadata": {},
   "outputs": [],
   "source": [
    "df_clean = df_clean.rename(columns={'last_word_location': 'Location'})"
   ]
  },
  {
   "cell_type": "code",
   "execution_count": 29,
   "id": "8597af15",
   "metadata": {},
   "outputs": [
    {
     "data": {
      "text/plain": [
       "Index(['PlayerName', 'Born', 'Height', 'Hand', 'LinkPlayer', 'Tournament',\n",
       "       'Date', 'Ground', 'Prize', 'GameRound', 'GameRank', 'Oponent', 'WL',\n",
       "       'Score', 'Location'],\n",
       "      dtype='object')"
      ]
     },
     "execution_count": 29,
     "metadata": {},
     "output_type": "execute_result"
    }
   ],
   "source": [
    "df_clean.columns #Verificação em que alteramos o nome da variável"
   ]
  },
  {
   "cell_type": "markdown",
   "id": "861b9585",
   "metadata": {},
   "source": [
    "Nota: vamos passar já o Df_clean para um CSV, para assim não termos que correr o código todo atrás."
   ]
  },
  {
   "cell_type": "code",
   "execution_count": 30,
   "id": "6b9651ed",
   "metadata": {},
   "outputs": [],
   "source": [
    "df_clean.to_csv('C:/data/ATPChina.csv', index=False)"
   ]
  }
 ],
 "metadata": {
  "kernelspec": {
   "display_name": "Python 3 (ipykernel)",
   "language": "python",
   "name": "python3"
  },
  "language_info": {
   "codemirror_mode": {
    "name": "ipython",
    "version": 3
   },
   "file_extension": ".py",
   "mimetype": "text/x-python",
   "name": "python",
   "nbconvert_exporter": "python",
   "pygments_lexer": "ipython3",
   "version": "3.9.12"
  }
 },
 "nbformat": 4,
 "nbformat_minor": 5
}
