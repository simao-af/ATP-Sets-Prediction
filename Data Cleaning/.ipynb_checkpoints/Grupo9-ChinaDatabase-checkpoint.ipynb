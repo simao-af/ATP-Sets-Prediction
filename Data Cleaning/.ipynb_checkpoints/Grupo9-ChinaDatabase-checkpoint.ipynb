{
 "cells": [
  {
   "cell_type": "markdown",
   "id": "1ff7d3d9",
   "metadata": {
    "jp-MarkdownHeadingCollapsed": true,
    "tags": []
   },
   "source": [
    "#### Imports"
   ]
  },
  {
   "cell_type": "code",
   "execution_count": 1,
   "id": "9f05ae22",
   "metadata": {},
   "outputs": [],
   "source": [
    "## importar as bibliotecas básicas\n",
    "\n",
    "import numpy as np\n",
    "import pandas as pd\n",
    "import random\n",
    "\n",
    "## for plotting\n",
    "import matplotlib.pyplot as plt\n",
    "import seaborn as sns\n",
    "    \n",
    "## plot style and warnings    \n",
    "plt.style.use('ggplot')\n",
    "from IPython.display import display # Allows the use of display() for DataFrames\n",
    "import warnings\n",
    "warnings.filterwarnings('ignore')"
   ]
  },
  {
   "cell_type": "markdown",
   "id": "5245113f",
   "metadata": {
    "jp-MarkdownHeadingCollapsed": true,
    "tags": []
   },
   "source": [
    "### Abertura da Base de Dados"
   ]
  },
  {
   "cell_type": "code",
   "execution_count": 3,
   "id": "1427ef5d",
   "metadata": {},
   "outputs": [],
   "source": [
    "df = pd.read_csv(\"data/atpplayers.csv\")"
   ]
  },
  {
   "cell_type": "markdown",
   "id": "1a26372e",
   "metadata": {},
   "source": [
    "# **Estatísticas Descritivas**"
   ]
  },
  {
   "cell_type": "markdown",
   "id": "f41ff4af",
   "metadata": {
    "jp-MarkdownHeadingCollapsed": true,
    "tags": []
   },
   "source": [
    "### Dimensão da base de dados"
   ]
  },
  {
   "cell_type": "code",
   "execution_count": 5,
   "id": "af4b13e8",
   "metadata": {},
   "outputs": [
    {
     "data": {
      "text/plain": [
       "(1308835, 15)"
      ]
     },
     "execution_count": 5,
     "metadata": {},
     "output_type": "execute_result"
    }
   ],
   "source": [
    "df.shape"
   ]
  },
  {
   "cell_type": "markdown",
   "id": "428c22bd",
   "metadata": {},
   "source": [
    "Existem 1308835 registos associados a 15 colunas."
   ]
  },
  {
   "cell_type": "markdown",
   "id": "aea7650f",
   "metadata": {
    "jp-MarkdownHeadingCollapsed": true,
    "tags": []
   },
   "source": [
    "### Informações sobre a base de dados (nomes das variáveis e tipos das variáveis)"
   ]
  },
  {
   "cell_type": "markdown",
   "id": "e14ffba1",
   "metadata": {},
   "source": [
    "Só existe uma variável quantitativa (Height), apesar de ser percetível que existem outras variáveis que são numéricas como : \n",
    "\n",
    "- Prize;\n",
    "- GameRank"
   ]
  },
  {
   "cell_type": "code",
   "execution_count": 6,
   "id": "22efe4a2",
   "metadata": {},
   "outputs": [
    {
     "name": "stdout",
     "output_type": "stream",
     "text": [
      "PlayerName     object\n",
      "Born           object\n",
      "Height        float64\n",
      "Hand           object\n",
      "LinkPlayer     object\n",
      "Tournament     object\n",
      "Location       object\n",
      "Date           object\n",
      "Ground         object\n",
      "Prize          object\n",
      "GameRound      object\n",
      "GameRank       object\n",
      "Oponent        object\n",
      "WL             object\n",
      "Score          object\n",
      "dtype: object\n"
     ]
    }
   ],
   "source": [
    "print(df.dtypes)"
   ]
  },
  {
   "cell_type": "code",
   "execution_count": 7,
   "id": "83e3ac9b",
   "metadata": {},
   "outputs": [
    {
     "data": {
      "text/plain": [
       "Index(['PlayerName', 'Born', 'Height', 'Hand', 'LinkPlayer', 'Tournament',\n",
       "       'Location', 'Date', 'Ground', 'Prize', 'GameRound', 'GameRank',\n",
       "       'Oponent', 'WL', 'Score'],\n",
       "      dtype='object')"
      ]
     },
     "execution_count": 7,
     "metadata": {},
     "output_type": "execute_result"
    }
   ],
   "source": [
    "df.columns"
   ]
  },
  {
   "cell_type": "code",
   "execution_count": 8,
   "id": "e0b6ee52",
   "metadata": {},
   "outputs": [
    {
     "name": "stdout",
     "output_type": "stream",
     "text": [
      "<class 'pandas.core.frame.DataFrame'>\n",
      "RangeIndex: 1308835 entries, 0 to 1308834\n",
      "Data columns (total 15 columns):\n",
      " #   Column      Non-Null Count    Dtype  \n",
      "---  ------      --------------    -----  \n",
      " 0   PlayerName  1308835 non-null  object \n",
      " 1   Born        988083 non-null   object \n",
      " 2   Height      982658 non-null   float64\n",
      " 3   Hand        1116918 non-null  object \n",
      " 4   LinkPlayer  1308835 non-null  object \n",
      " 5   Tournament  1308835 non-null  object \n",
      " 6   Location    1308835 non-null  object \n",
      " 7   Date        1308835 non-null  object \n",
      " 8   Ground      1308644 non-null  object \n",
      " 9   Prize       1289699 non-null  object \n",
      " 10  GameRound   1308835 non-null  object \n",
      " 11  GameRank    1289599 non-null  object \n",
      " 12  Oponent     1308828 non-null  object \n",
      " 13  WL          1289578 non-null  object \n",
      " 14  Score       1289435 non-null  object \n",
      "dtypes: float64(1), object(14)\n",
      "memory usage: 149.8+ MB\n"
     ]
    }
   ],
   "source": [
    "df.info()"
   ]
  },
  {
   "cell_type": "markdown",
   "id": "59e3530f",
   "metadata": {},
   "source": [
    "É percetível que as seguintes variáveis tem valores omissos:\n",
    "\n",
    "- Born;\n",
    "- Height;\n",
    "- Hand;\n",
    "- Prize;\n",
    "- GameRank;\n",
    "- Oponent;\n",
    "- WL;\n",
    "- Score."
   ]
  },
  {
   "cell_type": "markdown",
   "id": "179beeee",
   "metadata": {
    "jp-MarkdownHeadingCollapsed": true,
    "tags": []
   },
   "source": [
    "#### Função Describe"
   ]
  },
  {
   "cell_type": "markdown",
   "id": "cdb7210c",
   "metadata": {},
   "source": [
    "A função describe só se usa para variáveis numéricas, como foi dito acima, neste momento só existe uma variável (Height), portanto, é normal que o describe só se aplique uma vez."
   ]
  },
  {
   "cell_type": "code",
   "execution_count": 9,
   "id": "f9595038",
   "metadata": {},
   "outputs": [
    {
     "data": {
      "text/html": [
       "<div>\n",
       "<style scoped>\n",
       "    .dataframe tbody tr th:only-of-type {\n",
       "        vertical-align: middle;\n",
       "    }\n",
       "\n",
       "    .dataframe tbody tr th {\n",
       "        vertical-align: top;\n",
       "    }\n",
       "\n",
       "    .dataframe thead th {\n",
       "        text-align: right;\n",
       "    }\n",
       "</style>\n",
       "<table border=\"1\" class=\"dataframe\">\n",
       "  <thead>\n",
       "    <tr style=\"text-align: right;\">\n",
       "      <th></th>\n",
       "      <th>Height</th>\n",
       "    </tr>\n",
       "  </thead>\n",
       "  <tbody>\n",
       "    <tr>\n",
       "      <th>count</th>\n",
       "      <td>982658.000000</td>\n",
       "    </tr>\n",
       "    <tr>\n",
       "      <th>mean</th>\n",
       "      <td>181.248822</td>\n",
       "    </tr>\n",
       "    <tr>\n",
       "      <th>std</th>\n",
       "      <td>24.956836</td>\n",
       "    </tr>\n",
       "    <tr>\n",
       "      <th>min</th>\n",
       "      <td>0.000000</td>\n",
       "    </tr>\n",
       "    <tr>\n",
       "      <th>25%</th>\n",
       "      <td>180.000000</td>\n",
       "    </tr>\n",
       "    <tr>\n",
       "      <th>50%</th>\n",
       "      <td>183.000000</td>\n",
       "    </tr>\n",
       "    <tr>\n",
       "      <th>75%</th>\n",
       "      <td>188.000000</td>\n",
       "    </tr>\n",
       "    <tr>\n",
       "      <th>max</th>\n",
       "      <td>510.000000</td>\n",
       "    </tr>\n",
       "  </tbody>\n",
       "</table>\n",
       "</div>"
      ],
      "text/plain": [
       "              Height\n",
       "count  982658.000000\n",
       "mean      181.248822\n",
       "std        24.956836\n",
       "min         0.000000\n",
       "25%       180.000000\n",
       "50%       183.000000\n",
       "75%       188.000000\n",
       "max       510.000000"
      ]
     },
     "execution_count": 9,
     "metadata": {},
     "output_type": "execute_result"
    }
   ],
   "source": [
    "df.describe()"
   ]
  },
  {
   "cell_type": "markdown",
   "id": "2a864c1a",
   "metadata": {},
   "source": [
    "Nota: Existem outliers nesta variável uma vez que, o máximo desta variável é 510 (altura medida em centímetros) e como é obvio, não existe uma pessoa no mundo que meça 510 cm."
   ]
  },
  {
   "cell_type": "markdown",
   "id": "de996ba6",
   "metadata": {
    "jp-MarkdownHeadingCollapsed": true,
    "tags": []
   },
   "source": [
    "### Valores únicos"
   ]
  },
  {
   "cell_type": "markdown",
   "id": "6fb12b40-7731-4c6f-921d-2311a340075e",
   "metadata": {},
   "source": [
    "Antes de ser feito algum tipo de tratamento na variável 'Location', vamos conhecer um pouco da variável e obser quantos valores únicos é que apresenta."
   ]
  },
  {
   "cell_type": "code",
   "execution_count": 12,
   "id": "ce737eed",
   "metadata": {},
   "outputs": [
    {
     "name": "stdout",
     "output_type": "stream",
     "text": [
      "['Dubai, U.A.E.' 'Madrid, Spain' 'New York, NY, U.S.A.' ...\n",
      " 'Columbia, SC, U.S.A.' 'Reinach, Switzerland' 'Lakeway, TX, U.S.A.']\n",
      "Temos 2512 valores únicos na variável Location\n"
     ]
    }
   ],
   "source": [
    "print(df[\"Location\"].unique())\n",
    "\n",
    "count = 0\n",
    "for x in df[\"Location\"].unique():\n",
    "    count= count+1\n",
    "print('Temos ' + str(count) + ' valores únicos na variável Location')"
   ]
  },
  {
   "cell_type": "markdown",
   "id": "a1c7cb85",
   "metadata": {
    "tags": []
   },
   "source": [
    "## *Splits*"
   ]
  },
  {
   "cell_type": "markdown",
   "id": "e1fa4760-9cfe-4011-a617-27f919268f9b",
   "metadata": {},
   "source": [
    "Em baixo, realizaremos a função split que permitirá ir buscar o último valor da coluna Location, que predominantemente será o nome do país.\n",
    "\n",
    "Também criamos uma nova coluna, last_word_location, onde vamos guardar essa variável."
   ]
  },
  {
   "cell_type": "code",
   "execution_count": 13,
   "id": "27f67bee",
   "metadata": {},
   "outputs": [],
   "source": [
    "df['last_word_location'] = df['Location'].str.split().str[-1]"
   ]
  },
  {
   "cell_type": "code",
   "execution_count": 14,
   "id": "f93a004d",
   "metadata": {},
   "outputs": [
    {
     "data": {
      "text/plain": [
       "array(['U.A.E.', 'Spain', 'U.S.A.', 'France', 'Japan', 'Britain', 'Italy',\n",
       "       'Serbia', 'Monaco', 'Australia', 'Austria', 'China', 'Qatar',\n",
       "       'Canada', 'Mexico', 'Brazil', 'States', 'Belgium', 'Switzerland',\n",
       "       'Croatia', 'Netherlands', 'Germany', 'Thailand', 'Republic',\n",
       "       'Russia', 'Portugal', 'Israel', 'Scotland', 'England', 'SCG', 'M',\n",
       "       'Finland', 'Romania', 'Hungary', 'Montenegro', 'Bulgaria', 'India',\n",
       "       'Slovakia', 'Slovenia', 'Kazakhstan', 'Taipei', 'Belarus',\n",
       "       'Tunisia', 'Estonia', 'Georgia', 'Argentina', 'Denmark', 'Chile',\n",
       "       'Sweden', 'Ita', 'Zealand', 'Poland', 'Czechoslovakia',\n",
       "       'Yugoslavia', 'Barcelona', 'Morocco', 'Malaysia', 'Turkey',\n",
       "       'Colombia', 'Panama', 'Doha', 'Marino', 'Philippines',\n",
       "       'Guadeloupe', 'Caledonia', 'Greece', 'Cyprus', 'Uzbekistan',\n",
       "       'Norway', 'USA', 'Ecuador', 'Uruguay', 'Peru', 'Latvia',\n",
       "       'Luxembourg', 'Lithuania', 'Herzegovina', 'Korea', 'U.S.A',\n",
       "       'Egypt', 'Vietnam', 'Paraguay', 'Bolivia', 'Armenia', 'Bermuda',\n",
       "       'Singapore', 'Africa', 'TBA', 'Togo', 'Island', 'Toulouse',\n",
       "       'Casablanca', 'Neuchatel', 'Switz.', 'Ireland', 'Barbados',\n",
       "       'Guatemala', 'Rica', 'Iran', 'Zimbabwe', 'Mozambique', 'Nigeria',\n",
       "       'Senegal', 'Moldovia', 'Cambodia', 'Bahrain', 'Kong', 'Pakistan',\n",
       "       'Ukraine', 'Kuwait', 'Azerbaijan', 'Lanka', 'Taiwan', 'Moldova',\n",
       "       'Algeria', 'Rico', 'Salvador', 'Venezuela', 'Gabon', 'Indonesia',\n",
       "       'Cuba', 'Col', 'Domingo', 'Haiti', 'R', 'Andorra', 'Coast',\n",
       "       'Mauritius', 'Jamaica', 'Nicaragua', 'Bosnia', 'Wales', 'Lebanon',\n",
       "       'Macedonia', 'Macedona', 'Bakio', 'Hague', 'Solvenia',\n",
       "       'Bourg-en-Bresse', 'Monastir', 'Antalya', 'Guam', 'Tasmania',\n",
       "       'Wrocklaw', 'Canda', 'Rwanda', 'Burundi', 'Sudan', 'Uganda',\n",
       "       'Valldoreix', 'Wetzlar', 'Cameroon', 'Faro', 'Crotia', 'Estoril',\n",
       "       'Brazi', 'Belgrade', 'Uriage', 'Aires', 'Esch-sur-Alzette',\n",
       "       'Texas', 'Arabia', 'Tunis', 'Eygpt', 'Victoria', 'Ontaria',\n",
       "       'Hasharon', 'Kenya', 'Syria', 'Sheikh', 'AR', 'London', 'Yug.',\n",
       "       'Honduras', 'Korolev', 'Ta', 'Kaohsiung', 'TBD', 'Lampur', 'TPE',\n",
       "       'Forbach', 'Guarulhos', 'Ghana', 'Guayaquil', 'Melilla', 'Zealan',\n",
       "       'Aruba', 'Laos', 'Hunary', 'Brasilia', 'Bolivia/Chile', 'Anti',\n",
       "       'Toluca', 'City', 'Taip', 'Portschach', 'Constanta', 'Slovak',\n",
       "       'Myanmar', 'Oman', 'Samoa', 'Phillipines', 'NZ', 'Lahore',\n",
       "       'Madagascar', 'Esch/Alzette', 'TBC', 'Mondorf-Les-Bains', 'Moscow',\n",
       "       'Botwana', 'Columbia', 'Villavicencio', 'Alberta', 'Janeiro',\n",
       "       'Calgary', 'Devon', 'TRI', 'Nethe', 'Salinas', 'Bahamas', 'HKG',\n",
       "       'Argent', 'Bangkok', 'Oceania', 'Slovkia', 'Namibia',\n",
       "       'Johannesburg', 'OK', 'Liege', 'Tajikistan', 'Minsk', 'Calabria',\n",
       "       'Sardinia', 'Perth', 'Florianapolis', 'Bucharest', 'Portoroz',\n",
       "       'Polokwane', 'Jordan', 'Hu', 'Tashkent', 'THA', 'Meixco',\n",
       "       'Pretoria', 'Devonport', 'Bangladesh', 'Beach', 'Isra', 'Aut.',\n",
       "       'ISR', 'Nanjing', 'Havana', 'Habana', 'COL', 'Mallorca',\n",
       "       'Elndhoven', 'Braz', 'Bahia', 'NED', 'BRA', 'Arg.', 'Presov',\n",
       "       'Santiago', 'Manila', 'Wuhan', 'Manilla', 'Antil', 'Bratislava',\n",
       "       'Abidjan', 'Sie', 'Kakhovka', 'S', 'South', 'Mexica', 'ARG',\n",
       "       'Lara', 'GUA', 'D.R.', 'Brunei', \"'s-Hertogenbosch\", 'Kolkata',\n",
       "       'Dublin', 'Repub', 'Braunschweig', 'CIV', 'DEN.', 'Caledoni',\n",
       "       'Antilles', 'Tehran', 'URU', 'Pau', 'GBR', 'Malta', 'Nelspruit',\n",
       "       'MAS', 'Rep.', 'CZE', 'Wellington', 'Harare', 'SA', 'INA', 'NZL',\n",
       "       'Montevideo', 'Uraguay', 'Willemstad', 'Jakarta', 'UK', 'Uzb.',\n",
       "       'Surabaya', 'PHI', 'Venezeuela', 'Union', 'Egpyt', 'Urugay',\n",
       "       'Caribbean', 'Curacao'], dtype=object)"
      ]
     },
     "execution_count": 14,
     "metadata": {},
     "output_type": "execute_result"
    }
   ],
   "source": [
    "df['last_word_location'].unique()"
   ]
  },
  {
   "cell_type": "markdown",
   "id": "eb3e9b85",
   "metadata": {},
   "source": [
    "A China tem os valores limpos. \n",
    "\n",
    "Outro ponto importante, vai ser a transformação do Taiwan (que na base de dados, está denominado como Taip e Taipei) em China."
   ]
  },
  {
   "cell_type": "code",
   "execution_count": 15,
   "id": "f301e179",
   "metadata": {},
   "outputs": [],
   "source": [
    "df.loc[df['last_word_location'] == 'Taipei', 'last_word_location'] = 'China'\n",
    "df.loc[df['last_word_location'] == 'Taip', 'last_word_location'] = 'China'"
   ]
  },
  {
   "cell_type": "markdown",
   "id": "b2bf86aa",
   "metadata": {},
   "source": [
    "Em baixo, vamos perceber quantos registos temos associados à China:"
   ]
  },
  {
   "cell_type": "code",
   "execution_count": 16,
   "id": "0cec94aa",
   "metadata": {},
   "outputs": [
    {
     "data": {
      "text/plain": [
       "26357"
      ]
     },
     "execution_count": 16,
     "metadata": {},
     "output_type": "execute_result"
    }
   ],
   "source": [
    "(df['last_word_location'] == 'China').sum()"
   ]
  },
  {
   "cell_type": "markdown",
   "id": "37c22f15",
   "metadata": {},
   "source": [
    "Em baixo, vamos verificar novamente os valores únicos, para verificar se o Taiwan ainda está na lista de valores únicos."
   ]
  },
  {
   "cell_type": "code",
   "execution_count": 17,
   "id": "b9273d88",
   "metadata": {},
   "outputs": [
    {
     "data": {
      "text/plain": [
       "array(['U.A.E.', 'Spain', 'U.S.A.', 'France', 'Japan', 'Britain', 'Italy',\n",
       "       'Serbia', 'Monaco', 'Australia', 'Austria', 'China', 'Qatar',\n",
       "       'Canada', 'Mexico', 'Brazil', 'States', 'Belgium', 'Switzerland',\n",
       "       'Croatia', 'Netherlands', 'Germany', 'Thailand', 'Republic',\n",
       "       'Russia', 'Portugal', 'Israel', 'Scotland', 'England', 'SCG', 'M',\n",
       "       'Finland', 'Romania', 'Hungary', 'Montenegro', 'Bulgaria', 'India',\n",
       "       'Slovakia', 'Slovenia', 'Kazakhstan', 'Belarus', 'Tunisia',\n",
       "       'Estonia', 'Georgia', 'Argentina', 'Denmark', 'Chile', 'Sweden',\n",
       "       'Ita', 'Zealand', 'Poland', 'Czechoslovakia', 'Yugoslavia',\n",
       "       'Barcelona', 'Morocco', 'Malaysia', 'Turkey', 'Colombia', 'Panama',\n",
       "       'Doha', 'Marino', 'Philippines', 'Guadeloupe', 'Caledonia',\n",
       "       'Greece', 'Cyprus', 'Uzbekistan', 'Norway', 'USA', 'Ecuador',\n",
       "       'Uruguay', 'Peru', 'Latvia', 'Luxembourg', 'Lithuania',\n",
       "       'Herzegovina', 'Korea', 'U.S.A', 'Egypt', 'Vietnam', 'Paraguay',\n",
       "       'Bolivia', 'Armenia', 'Bermuda', 'Singapore', 'Africa', 'TBA',\n",
       "       'Togo', 'Island', 'Toulouse', 'Casablanca', 'Neuchatel', 'Switz.',\n",
       "       'Ireland', 'Barbados', 'Guatemala', 'Rica', 'Iran', 'Zimbabwe',\n",
       "       'Mozambique', 'Nigeria', 'Senegal', 'Moldovia', 'Cambodia',\n",
       "       'Bahrain', 'Kong', 'Pakistan', 'Ukraine', 'Kuwait', 'Azerbaijan',\n",
       "       'Lanka', 'Taiwan', 'Moldova', 'Algeria', 'Rico', 'Salvador',\n",
       "       'Venezuela', 'Gabon', 'Indonesia', 'Cuba', 'Col', 'Domingo',\n",
       "       'Haiti', 'R', 'Andorra', 'Coast', 'Mauritius', 'Jamaica',\n",
       "       'Nicaragua', 'Bosnia', 'Wales', 'Lebanon', 'Macedonia', 'Macedona',\n",
       "       'Bakio', 'Hague', 'Solvenia', 'Bourg-en-Bresse', 'Monastir',\n",
       "       'Antalya', 'Guam', 'Tasmania', 'Wrocklaw', 'Canda', 'Rwanda',\n",
       "       'Burundi', 'Sudan', 'Uganda', 'Valldoreix', 'Wetzlar', 'Cameroon',\n",
       "       'Faro', 'Crotia', 'Estoril', 'Brazi', 'Belgrade', 'Uriage',\n",
       "       'Aires', 'Esch-sur-Alzette', 'Texas', 'Arabia', 'Tunis', 'Eygpt',\n",
       "       'Victoria', 'Ontaria', 'Hasharon', 'Kenya', 'Syria', 'Sheikh',\n",
       "       'AR', 'London', 'Yug.', 'Honduras', 'Korolev', 'Ta', 'Kaohsiung',\n",
       "       'TBD', 'Lampur', 'TPE', 'Forbach', 'Guarulhos', 'Ghana',\n",
       "       'Guayaquil', 'Melilla', 'Zealan', 'Aruba', 'Laos', 'Hunary',\n",
       "       'Brasilia', 'Bolivia/Chile', 'Anti', 'Toluca', 'City',\n",
       "       'Portschach', 'Constanta', 'Slovak', 'Myanmar', 'Oman', 'Samoa',\n",
       "       'Phillipines', 'NZ', 'Lahore', 'Madagascar', 'Esch/Alzette', 'TBC',\n",
       "       'Mondorf-Les-Bains', 'Moscow', 'Botwana', 'Columbia',\n",
       "       'Villavicencio', 'Alberta', 'Janeiro', 'Calgary', 'Devon', 'TRI',\n",
       "       'Nethe', 'Salinas', 'Bahamas', 'HKG', 'Argent', 'Bangkok',\n",
       "       'Oceania', 'Slovkia', 'Namibia', 'Johannesburg', 'OK', 'Liege',\n",
       "       'Tajikistan', 'Minsk', 'Calabria', 'Sardinia', 'Perth',\n",
       "       'Florianapolis', 'Bucharest', 'Portoroz', 'Polokwane', 'Jordan',\n",
       "       'Hu', 'Tashkent', 'THA', 'Meixco', 'Pretoria', 'Devonport',\n",
       "       'Bangladesh', 'Beach', 'Isra', 'Aut.', 'ISR', 'Nanjing', 'Havana',\n",
       "       'Habana', 'COL', 'Mallorca', 'Elndhoven', 'Braz', 'Bahia', 'NED',\n",
       "       'BRA', 'Arg.', 'Presov', 'Santiago', 'Manila', 'Wuhan', 'Manilla',\n",
       "       'Antil', 'Bratislava', 'Abidjan', 'Sie', 'Kakhovka', 'S', 'South',\n",
       "       'Mexica', 'ARG', 'Lara', 'GUA', 'D.R.', 'Brunei',\n",
       "       \"'s-Hertogenbosch\", 'Kolkata', 'Dublin', 'Repub', 'Braunschweig',\n",
       "       'CIV', 'DEN.', 'Caledoni', 'Antilles', 'Tehran', 'URU', 'Pau',\n",
       "       'GBR', 'Malta', 'Nelspruit', 'MAS', 'Rep.', 'CZE', 'Wellington',\n",
       "       'Harare', 'SA', 'INA', 'NZL', 'Montevideo', 'Uraguay',\n",
       "       'Willemstad', 'Jakarta', 'UK', 'Uzb.', 'Surabaya', 'PHI',\n",
       "       'Venezeuela', 'Union', 'Egpyt', 'Urugay', 'Caribbean', 'Curacao'],\n",
       "      dtype=object)"
      ]
     },
     "execution_count": 17,
     "metadata": {},
     "output_type": "execute_result"
    }
   ],
   "source": [
    "df['last_word_location'].unique()"
   ]
  },
  {
   "cell_type": "markdown",
   "id": "cea7f08e",
   "metadata": {},
   "source": [
    "Em cima, podemos concluir que, nesta base de dados, o Taiwan foi transformado em China."
   ]
  },
  {
   "cell_type": "code",
   "execution_count": 18,
   "id": "2744ff6a",
   "metadata": {},
   "outputs": [
    {
     "data": {
      "image/png": "[encoded data removed]",
      "text/plain": [
       "<Figure size 1500x400 with 1 Axes>"
      ]
     },
     "metadata": {},
     "output_type": "display_data"
    }
   ],
   "source": [
    "### gráfico de barras das colunas ordenadas em função de número de valores omissos (do menor ao maior)\n",
    "## usamos a função .isna() - para detetar os valores omissos e a função .sort_values() - para ordenar as colunas/variáveis\n",
    "df.isna().mean().sort_values().plot(kind=\"bar\", figsize=(15, 4),\n",
    "title=\"Percentage of missing values per feature\",ylabel=\"Ratio of missing values per feature\");"
   ]
  },
  {
   "cell_type": "code",
   "execution_count": 19,
   "id": "27a4cd32",
   "metadata": {},
   "outputs": [
    {
     "name": "stdout",
     "output_type": "stream",
     "text": [
      "PlayerName                 0\n",
      "Born                  320752\n",
      "Height                326177\n",
      "Hand                  191917\n",
      "LinkPlayer                 0\n",
      "Tournament                 0\n",
      "Location                   0\n",
      "Date                       0\n",
      "Ground                   191\n",
      "Prize                  19136\n",
      "GameRound                  0\n",
      "GameRank               19236\n",
      "Oponent                    7\n",
      "WL                     19257\n",
      "Score                  19400\n",
      "last_word_location         0\n",
      "dtype: int64\n"
     ]
    }
   ],
   "source": [
    "nan_count = df.isna().sum()\n",
    "print(nan_count)"
   ]
  },
  {
   "cell_type": "markdown",
   "id": "a43172f9",
   "metadata": {},
   "source": [
    "## Criação de um novo DataFrame"
   ]
  },
  {
   "cell_type": "markdown",
   "id": "3a8cf7fa-1342-4a7a-b4de-837a4d653aba",
   "metadata": {},
   "source": [
    "Em baixo, vamos criar um novo data frame, um dataframe que contenha apenas os jogos que são jogados na China, uma vez que, não faz sentido, limpar os dados de todos os jogos que são jogados no mundo inteiro.\n",
    "\n",
    "Então, vai ser criado, um df_clean, que vai buscar à coluna acima criada (last_word_location), apenas os que têm como China nessa variável."
   ]
  },
  {
   "cell_type": "code",
   "execution_count": 20,
   "id": "fa7a3b2d",
   "metadata": {},
   "outputs": [],
   "source": [
    "df_clean = df.loc[df['last_word_location'] == 'China']"
   ]
  },
  {
   "cell_type": "code",
   "execution_count": 21,
   "id": "acd004bd",
   "metadata": {},
   "outputs": [],
   "source": [
    "df_clean = df_clean.drop('Location', axis=1)"
   ]
  },
  {
   "cell_type": "code",
   "execution_count": 22,
   "id": "bed9c449",
   "metadata": {},
   "outputs": [],
   "source": [
    "df_clean = df_clean.rename(columns={'last_word_location': 'Location'})"
   ]
  },
  {
   "cell_type": "code",
   "execution_count": 23,
   "id": "8597af15",
   "metadata": {},
   "outputs": [
    {
     "data": {
      "text/plain": [
       "Index(['PlayerName', 'Born', 'Height', 'Hand', 'LinkPlayer', 'Tournament',\n",
       "       'Date', 'Ground', 'Prize', 'GameRound', 'GameRank', 'Oponent', 'WL',\n",
       "       'Score', 'Location'],\n",
       "      dtype='object')"
      ]
     },
     "execution_count": 23,
     "metadata": {},
     "output_type": "execute_result"
    }
   ],
   "source": [
    "df_clean.columns #Verificação em que alteramos o nome da variável"
   ]
  },
  {
   "cell_type": "markdown",
   "id": "861b9585",
   "metadata": {},
   "source": [
    "Nota: vamos passar já o Df_clean para um CSV, para assim não termos que correr o código todo atrás."
   ]
  },
  {
   "cell_type": "code",
   "execution_count": 24,
   "id": "6b9651ed",
   "metadata": {},
   "outputs": [],
   "source": [
    "df_clean.to_csv('data/atpchina.csv', index=False)"
   ]
  }
 ],
 "metadata": {
  "kernelspec": {
   "display_name": "Python 3 (ipykernel)",
   "language": "python",
   "name": "python3"
  },
  "language_info": {
   "codemirror_mode": {
    "name": "ipython",
    "version": 3
   },
   "file_extension": ".py",
   "mimetype": "text/x-python",
   "name": "python",
   "nbconvert_exporter": "python",
   "pygments_lexer": "ipython3",
   "version": "3.9.13"
  }
 },
 "nbformat": 4,
 "nbformat_minor": 5
}
